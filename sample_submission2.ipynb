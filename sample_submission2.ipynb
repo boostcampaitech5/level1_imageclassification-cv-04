{
 "cells": [
  {
   "cell_type": "markdown",
   "id": "about-heavy",
   "metadata": {},
   "source": [
    "## 0. Libarary 불러오기 및 경로설정"
   ]
  },
  {
   "cell_type": "code",
   "execution_count": 1,
   "id": "cubic-scoop",
   "metadata": {},
   "outputs": [],
   "source": [
    "import os\n",
    "import pandas as pd\n",
    "from PIL import Image\n",
    "\n",
    "import torch\n",
    "import torch.nn as nn\n",
    "import torch.nn.functional as F\n",
    "from torch.utils.data import Dataset, DataLoader\n",
    "\n",
    "from torchvision import transforms\n",
    "from torchvision.transforms import Resize, ToTensor, Normalize\n",
    "\n",
    "import timm\n",
    "from timm import create_model\n",
    "\n",
    "from tqdm import tqdm\n",
    "\n",
    "import numpy as np"
   ]
  },
  {
   "cell_type": "code",
   "execution_count": 2,
   "id": "built-elevation",
   "metadata": {},
   "outputs": [],
   "source": [
    "# 테스트 데이터셋 폴더 경로를 지정해주세요.\n",
    "test_dir = '/opt/ml/input/data/eval'"
   ]
  },
  {
   "cell_type": "markdown",
   "id": "quiet-organizer",
   "metadata": {},
   "source": [
    "## 1. Model 정의"
   ]
  },
  {
   "cell_type": "code",
   "execution_count": 3,
   "id": "acknowledged-easter",
   "metadata": {},
   "outputs": [],
   "source": [
    "class KFoldClassifier(nn.Module):\n",
    "    def __init__(self, num_classes, load_model):\n",
    "        super(KFoldClassifier, self).__init__()\n",
    "\n",
    "        self.num_classes = num_classes\n",
    "        self.load_model = load_model\n",
    "        if self.load_model:\n",
    "            self.backbone = create_model(self.load_model, pretrained=True, num_classes=self.num_classes)\n",
    "            \n",
    "\n",
    "    def forward(self, x):\n",
    "        if self.load_model:\n",
    "            x = self.backbone(x)\n",
    "        return x"
   ]
  },
  {
   "cell_type": "markdown",
   "id": "domestic-channels",
   "metadata": {},
   "source": [
    "## 2. Test Dataset 정의"
   ]
  },
  {
   "cell_type": "code",
   "execution_count": 4,
   "id": "extensive-north",
   "metadata": {},
   "outputs": [],
   "source": [
    "class TestDataset(Dataset):\n",
    "    def __init__(self, img_paths, transform):\n",
    "        self.img_paths = img_paths\n",
    "        self.transform = transform\n",
    "\n",
    "    def __getitem__(self, index):\n",
    "        image = Image.open(self.img_paths[index])\n",
    "\n",
    "        if self.transform:\n",
    "            image = self.transform(image)\n",
    "        return image\n",
    "\n",
    "    def __len__(self):\n",
    "        return len(self.img_paths)"
   ]
  },
  {
   "cell_type": "markdown",
   "id": "continued-feelings",
   "metadata": {},
   "source": [
    "## 3. Inference"
   ]
  },
  {
   "cell_type": "code",
   "execution_count": 5,
   "id": "coral-shade",
   "metadata": {},
   "outputs": [
    {
     "name": "stderr",
     "output_type": "stream",
     "text": [
      "100%|██████████| 197/197 [08:27<00:00,  2.58s/it]\n",
      "100%|██████████| 197/197 [08:25<00:00,  2.57s/it]\n",
      "100%|██████████| 197/197 [09:52<00:00,  3.01s/it]"
     ]
    },
    {
     "name": "stdout",
     "output_type": "stream",
     "text": [
      "test inference is done!\n"
     ]
    },
    {
     "name": "stderr",
     "output_type": "stream",
     "text": [
      "\n"
     ]
    }
   ],
   "source": [
    "# meta 데이터와 이미지 경로를 불러옵니다.\n",
    "submission = pd.read_csv(os.path.join(test_dir, 'info.csv'))\n",
    "image_dir = os.path.join(test_dir, 'images')\n",
    "\n",
    "# Test Dataset 클래스 객체를 생성하고 DataLoader를 만듭니다.\n",
    "image_paths = [os.path.join(image_dir, img_id) for img_id in submission.ImageID]\n",
    "transform = transforms.Compose([transforms.CenterCrop((300, 300)),\n",
    "                                transforms.Resize((224, 224)),\n",
    "                                transforms.ToTensor(),\n",
    "                                transforms.Normalize(mean=(0.485, 0.456, 0.406),\n",
    "                                                     std=(0.229, 0.224, 0.225))])\n",
    "dataset = TestDataset(image_paths, transform)\n",
    "\n",
    "batch_size = 64\n",
    "loader = DataLoader(\n",
    "    dataset,\n",
    "    shuffle=False,\n",
    "    batch_size=batch_size\n",
    ")\n",
    "\n",
    "# 모델을 정의합니다. (학습한 모델이 있다면 torch.load로 모델을 불러주세요!)\n",
    "mask_ckp = ['/opt/ml/level1_imageclassification-cv-04/checkpoint/kfold4_0_cd_maskdetection_reducelr61_bs64_ep100_adamw_lr0.0001_resnet50/epoch(39)_acc(0.984)_loss(0.057)_f1(0.984)_state_dict.pt',\n",
    "            '/opt/ml/level1_imageclassification-cv-04/checkpoint/kfold4_1_cd_maskdetection_reducelr67_bs64_ep100_adamw_lr0.0001_resnet50/epoch(39)_acc(0.991)_loss(0.039)_f1(0.991)_state_dict.pt',\n",
    "            '/opt/ml/level1_imageclassification-cv-04/checkpoint/kfold4_2_cd_maskdetection_reducelr69_bs64_ep100_adamw_lr0.0001_resnet50/epoch(54)_acc(0.991)_loss(0.051)_f1(0.991)_state_dict.pt',\n",
    "            '/opt/ml/level1_imageclassification-cv-04/checkpoint/kfold4_3_cd_maskdetection_reducelr73_bs64_ep100_adamw_lr0.0001_resnet50/epoch(49)_acc(0.991)_loss(0.032)_f1(0.991)_state_dict.pt',\n",
    "            '/opt/ml/level1_imageclassification-cv-04/checkpoint/kfold4_4_cd_maskdetection_reducelr76_bs64_ep100_adamw_lr0.0001_resnet50/epoch(29)_acc(0.992)_loss(0.043)_f1(0.992)_state_dict.pt']\n",
    "gender_ckp = ['/opt/ml/level1_imageclassification-cv-04/checkpoint/kfold4_0_cd_genderdetection_reducelr66_bs64_ep100_adamw_lr0.0001_resnet50/epoch(56)_acc(0.944)_loss(0.158)_f1(0.941)_state_dict.pt',\n",
    "              '/opt/ml/level1_imageclassification-cv-04/checkpoint/kfold4_1_cd_genderdetection_reducelr70_bs64_ep100_adamw_lr0.0001_resnet50/epoch(19)_acc(0.965)_loss(0.114)_f1(0.963)_state_dict.pt',\n",
    "              '/opt/ml/level1_imageclassification-cv-04/checkpoint/kfold4_2_cd_genderdetection_reducelr70_bs64_ep100_adamw_lr0.0001_resnet50/epoch(19)_acc(0.967)_loss(0.111)_f1(0.966)_state_dict.pt',\n",
    "              '/opt/ml/level1_imageclassification-cv-04/checkpoint/kfold4_3_cd_genderdetection_reducelr74_bs64_ep100_adamw_lr0.0001_resnet50/epoch(19)_acc(0.953)_loss(0.137)_f1(0.950)_state_dict.pt',\n",
    "              '/opt/ml/level1_imageclassification-cv-04/checkpoint/kfold4_4_cd_genderdetection_reducelr77_bs64_ep100_adamw_lr0.0001_resnet50/epoch(42)_acc(0.923)_loss(0.216)_f1(0.919)_state_dict.pt']\n",
    "age_ckp = ['/opt/ml/level1_imageclassification-cv-04/checkpoint/kfold4_0_age_swin80_bs64_ep100_adamw_lr1e-06_swin_base_patch4_window7_224_in22k/epoch(39)_acc(0.878)_loss(0.323)_f1(0.839)_state_dict.pt',\n",
    "           '/opt/ml/level1_imageclassification-cv-04/checkpoint/kfold4_1_age_swin81_bs64_ep100_adamw_lr1e-06_swin_base_patch4_window7_224_in22k/epoch(29)_acc(0.866)_loss(0.303)_f1(0.820)_state_dict.pt']\n",
    "        #    '/opt/ml/level1_imageclassification-cv-04/checkpoint/kfold4_2_age_swin85_bs64_ep100_adamw_lr1e-07_swin_base_patch4_window7_224_in22k/epoch(79)_acc(0.842)_loss(0.361)_f1(0.794)_state_dict.pt',\n",
    "        #    '/opt/ml/level1_imageclassification-cv-04/checkpoint/kfold4_3_age_swin86_bs64_ep100_adamw_lr1e-07_swin_base_patch4_window7_224_in22k/epoch(99)_acc(0.814)_loss(0.388)_f1(0.770)_state_dict.pt',\n",
    "        #    '/opt/ml/level1_imageclassification-cv-04/checkpoint/kfold4_4_age_swin98_bs64_ep200_adamw_lr1e-06_swin_base_patch4_window7_224_in22k/epoch(9)_acc(0.806)_loss(0.533)_f1(0.739)_state_dict.pt']\n",
    "\n",
    "# 모델이 테스트 데이터셋을 예측하고 결과를 저장합니다.\n",
    "all_ckps = [mask_ckp, gender_ckp, age_ckp]\n",
    "num_classes = [3, 2, 3]\n",
    "load_model = ['resnet50', 'resnet50', 'swin_base_patch4_window7_224_in22k']\n",
    "device = torch.device('cuda')\n",
    "predictions = [[], [], []]\n",
    "\n",
    "for i, (ckps, num_class) in enumerate(zip(all_ckps, num_classes)):\n",
    "    models = []\n",
    "    for ckp in ckps:\n",
    "        state_dict = torch.load(ckp)\n",
    "        model = KFoldClassifier(num_class, load_model[i]).to(device)\n",
    "        model.load_state_dict(state_dict['model_state_dict'])\n",
    "        model.eval()\n",
    "        models.append(model)\n",
    "\n",
    "    for images in tqdm(loader):\n",
    "        with torch.no_grad():\n",
    "            images = images.to(device)\n",
    "            # class_pred = torch.zeros((batch_size, num_class)).to(device)\n",
    "            class_pred = []\n",
    "            for model in models:\n",
    "                pred = model(images)\n",
    "                class_pred.append(pred)\n",
    "            all_class_pred = torch.stack(class_pred)\n",
    "            class_pred = torch.sum(all_class_pred, dim=0)\n",
    "            pred = class_pred.argmax(dim=-1)\n",
    "            predictions[i].extend(pred.cpu().numpy())\n",
    "\n",
    "predictions = np.array(predictions)\n",
    "all_predictions = predictions[0]*6 + predictions[1]*3 + predictions[2]\n",
    "submission['ans'] = all_predictions\n",
    "\n",
    "# 제출할 파일을 저장합니다.\n",
    "submission.to_csv(os.path.join(test_dir, 'submission.csv'), index=False)\n",
    "print('test inference is done!')"
   ]
  },
  {
   "cell_type": "code",
   "execution_count": null,
   "id": "verbal-sample",
   "metadata": {},
   "outputs": [],
   "source": []
  }
 ],
 "metadata": {
  "kernelspec": {
   "display_name": "Python 3 (ipykernel)",
   "language": "python",
   "name": "python3"
  },
  "language_info": {
   "codemirror_mode": {
    "name": "ipython",
    "version": 3
   },
   "file_extension": ".py",
   "mimetype": "text/x-python",
   "name": "python",
   "nbconvert_exporter": "python",
   "pygments_lexer": "ipython3",
   "version": "3.8.5"
  }
 },
 "nbformat": 4,
 "nbformat_minor": 5
}
